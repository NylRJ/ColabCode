{
  "nbformat": 4,
  "nbformat_minor": 0,
  "metadata": {
    "colab": {
      "name": "AG_Mochila_Evolutivo_modelo02.ipynb",
      "provenance": [],
      "collapsed_sections": [],
      "include_colab_link": true
    },
    "kernelspec": {
      "name": "python3",
      "display_name": "Python 3"
    },
    "language_info": {
      "name": "python"
    }
  },
  "cells": [
    {
      "cell_type": "markdown",
      "metadata": {
        "id": "view-in-github",
        "colab_type": "text"
      },
      "source": [
        "<a href=\"https://colab.research.google.com/github/NylRJ/ColabCode/blob/main/Algoritmo_Genetico%5CAG_Mochila_Evolutivo_modelo02.ipynb\" target=\"_parent\"><img src=\"https://colab.research.google.com/assets/colab-badge.svg\" alt=\"Open In Colab\"/></a>"
      ]
    },
    {
      "cell_type": "markdown",
      "metadata": {
        "id": "MC3Ll9EeVWQo"
      },
      "source": [
        "# Importando as bibliotecas"
      ]
    },
    {
      "cell_type": "code",
      "metadata": {
        "id": "fC4Sjo0oVKeh"
      },
      "source": [
        "import numpy as np\n",
        "from random import randint, random, uniform, choice\n",
        "import copy\n",
        "from collections import namedtuple\n",
        "from typing import Tuple\n",
        "\n",
        "#Global\n",
        "numeroAlelos = 8\n",
        "populacao = 10\n",
        "geracoes = 160\n",
        "\n",
        "Thing = namedtuple('thing', ['name', 'value', 'weight'])\n",
        "\n",
        "\n",
        "\n",
        "things = [\n",
        "    Thing('1', 3, 5),\n",
        "    Thing('2', 3, 4),\n",
        "    Thing('3', 2, 7),\n",
        "    Thing('4', 4, 8),\n",
        "    Thing('5', 2, 4),\n",
        "    Thing('6', 3, 4),\n",
        "    Thing('7', 5, 6),\n",
        "    Thing('8', 2, 8),\n",
        "]\n",
        "\n"
      ],
      "execution_count": null,
      "outputs": []
    },
    {
      "cell_type": "markdown",
      "metadata": {
        "id": "Q3avcamkKDWr"
      },
      "source": [
        "#*Definindo funções do AG*"
      ]
    },
    {
      "cell_type": "markdown",
      "metadata": {
        "id": "dlcpTYI0Knht"
      },
      "source": [
        "###*Função de Fitness*"
      ]
    },
    {
      "cell_type": "code",
      "metadata": {
        "id": "UKLVZfFmKQsn"
      },
      "source": [
        "def fitness(individuo, things=things, weight_limit=25):\n",
        "\n",
        "  weight = 0\n",
        "  value = 0\n",
        "\n",
        "  for i in range(len(things)):\n",
        "    \n",
        "    if individuo[i] != 0: \n",
        "\n",
        "      value += things[i][1]\n",
        "      weight += things[i][2]\n",
        "           \n",
        "      \n",
        "  if weight > weight_limit:\n",
        "    return 0\n",
        "      \n",
        "  \n",
        "  return (value / weight)"
      ],
      "execution_count": null,
      "outputs": []
    },
    {
      "cell_type": "markdown",
      "metadata": {
        "id": "eErUDoKSxhR5"
      },
      "source": [
        "###*Teste Fitness*"
      ]
    },
    {
      "cell_type": "code",
      "metadata": {
        "id": "thOCTJHru1ct"
      },
      "source": [
        "# Criando a população\n",
        "populacao1 = []\n",
        "ind1 = Individuo()\n",
        "ind1.cromossomoINT = [1,1,0,0,1,1,1,0]\n",
        "populacao1.append(ind1)\n",
        "\n",
        "ind2 = Individuo()\n",
        "ind2.cromossomoINT = [1,0,1,1,1,1,0,0]\n",
        "populacao1.append(ind2)\n",
        "\n",
        "ind3 = Individuo()\n",
        "ind3.cromossomoINT = [1,0,1,0,1,0,0,1]\n",
        "populacao1.append(ind3)\n",
        "\n",
        "print(populacao1[0].fitness)\n",
        "# populacao1.append(np.array([1,0,1,0,1,0,0,1],dtype=int))\n"
      ],
      "execution_count": null,
      "outputs": []
    },
    {
      "cell_type": "code",
      "metadata": {
        "id": "f69cJCLdq7AD"
      },
      "source": [
        "ind = [1,1,0,0,1,1,1,0]\n",
        "p = 0 \n",
        "v = 0\n",
        "for i in range(len(things)):\n",
        "  # print(things[i][1])\n",
        "  # print(things[i][2])\n",
        "  if ind[i] != 0:\n",
        "    v += things[i][1]\n",
        "    p += things[i][2]\n",
        "    print(things[i][1])\n",
        "    print(things[i][2])\n",
        "  \n",
        "print(f'Valor: {v}')\n",
        "print(f'Peso: {p}')\n",
        "print(f'Fitness: {v / p}')\n",
        "\n"
      ],
      "execution_count": null,
      "outputs": []
    },
    {
      "cell_type": "code",
      "metadata": {
        "id": "XcT2ovdlu4wk"
      },
      "source": [
        "# fitness(populacao1[0])\n"
      ],
      "execution_count": null,
      "outputs": []
    },
    {
      "cell_type": "markdown",
      "metadata": {
        "id": "v4vfnODrR91z"
      },
      "source": [
        "###*Definindo Cromossomo*"
      ]
    },
    {
      "cell_type": "code",
      "metadata": {
        "id": "b6r7wfFWSDa6"
      },
      "source": [
        "def definirCromossomo():\n",
        "  cromossomo = []\n",
        "  for _ in range(numeroAlelos):\n",
        "\n",
        "    if random() >= 0.5:\n",
        "      cromossomo.append(1)\n",
        "    else:\n",
        "      cromossomo.append(0)\n",
        "  return cromossomo"
      ],
      "execution_count": null,
      "outputs": []
    },
    {
      "cell_type": "markdown",
      "metadata": {
        "id": "_tUw0xjYXFbM"
      },
      "source": [
        "###*Teste de cromossomo*"
      ]
    },
    {
      "cell_type": "markdown",
      "metadata": {
        "id": "QnUvoypvS4T_"
      },
      "source": [
        "###*Criando População Inicial*"
      ]
    },
    {
      "cell_type": "code",
      "metadata": {
        "id": "csQEh5qsS7Li"
      },
      "source": [
        "def iniciaPopulacao(populacao):\n",
        "  return [Individuo() for _ in range(populacao)]"
      ],
      "execution_count": null,
      "outputs": []
    },
    {
      "cell_type": "markdown",
      "metadata": {
        "id": "GL25FaT0TU8u"
      },
      "source": [
        "###*Definir Fitness dos Agents*"
      ]
    },
    {
      "cell_type": "code",
      "metadata": {
        "id": "biTs3xLhTXCP"
      },
      "source": [
        "def definirFitness(individuos):\n",
        "  for individuo in individuos:\n",
        "    individuo.fitness = fitness(individuo.cromossomoINT)\n",
        "  return individuos"
      ],
      "execution_count": null,
      "outputs": []
    },
    {
      "cell_type": "markdown",
      "metadata": {
        "id": "gJ2yyGt4_Ooi"
      },
      "source": [
        "###*testando fitness do Agente*"
      ]
    },
    {
      "cell_type": "code",
      "metadata": {
        "id": "k-BsUI76_J3G"
      },
      "source": [
        "# Criando a população \n",
        "\n",
        "iiind = definirFitness(populacao1)\n"
      ],
      "execution_count": null,
      "outputs": []
    },
    {
      "cell_type": "code",
      "metadata": {
        "id": "hz39-TFIFQbm"
      },
      "source": [
        "print(iiind[0].fitness)"
      ],
      "execution_count": null,
      "outputs": []
    },
    {
      "cell_type": "markdown",
      "metadata": {
        "id": "-NfaApUaTsXx"
      },
      "source": [
        "###*Calcular Percentual de Fitness*"
      ]
    },
    {
      "cell_type": "code",
      "metadata": {
        "id": "aQsRfOW6Ttei"
      },
      "source": [
        "def calcularFitnessPercent(individuos):\n",
        "  somatorio = 0  \n",
        "  for individuo in individuos:\n",
        "    individuo.fitnessPercent = 0.0\n",
        "\n",
        "  for x in individuos:\n",
        "    somatorio += x.fitness\n",
        "\n",
        "  for individuo in individuos:\n",
        "    individuo.fitnessPercent = ((individuo.fitness * 100) / somatorio)\n",
        "\n",
        "\n",
        "  return individuos"
      ],
      "execution_count": null,
      "outputs": []
    },
    {
      "cell_type": "markdown",
      "metadata": {
        "id": "jJeXizFKVaLn"
      },
      "source": [
        "# Criando as classes de trabalho"
      ]
    },
    {
      "cell_type": "markdown",
      "metadata": {
        "id": "UAhZfHyOVj7m"
      },
      "source": [
        "### *Class Individuo*"
      ]
    },
    {
      "cell_type": "code",
      "metadata": {
        "id": "6dMvHxECVY_J"
      },
      "source": [
        "class Individuo(object):\n",
        "  def __init__(self):\n",
        "    self.cromossomoINT = definirCromossomo()\n",
        "    self.peso = 0\n",
        "    self.beneficio = 0\n",
        "    self.rangeRoleta = [0.0, 0.0]\n",
        "    self.fitness = -1\n",
        "    self.fitnessPercent = 0.0\n",
        "\n",
        "  def __str__(self):\n",
        "    return f'CromossomoINT: {self.cromossomoINT}  Fitness: {self.fitness} FitnessPercent: {self.fitnessPercent} RangeRoleta: {self.rangeRoleta}' \n"
      ],
      "execution_count": null,
      "outputs": []
    },
    {
      "cell_type": "markdown",
      "metadata": {
        "id": "A6Qw8bU4Ua68"
      },
      "source": [
        "##*Criando Metodo da Roleta*"
      ]
    },
    {
      "cell_type": "code",
      "metadata": {
        "id": "6QIZr00BUdwU"
      },
      "source": [
        "def definirRangeRoleta(individuos):\n",
        "  for individuo in individuos:\n",
        "    individuo.rangeRoleta = [0.0, 0.0]\n",
        "\n",
        "  individuos = sorted(individuos, key=lambda x: x.fitnessPercent)\n",
        "\n",
        "  somatorio = 0 \n",
        "  for x in range(populacao):\n",
        "    if x == 0:\n",
        "      somatorio += individuos[x].fitnessPercent\n",
        "      individuos[x].rangeRoleta[1] = somatorio\n",
        "      individuos[x].rangeRoleta[0] = 0.0\n",
        "    else:\n",
        "      individuos[x].rangeRoleta[0] = somatorio\n",
        "      individuos[x].rangeRoleta[1] = (somatorio + individuos[x].fitnessPercent)\n",
        "      somatorio += individuos[x].fitnessPercent\n",
        "  \n",
        "  return individuos\n"
      ],
      "execution_count": null,
      "outputs": []
    },
    {
      "cell_type": "markdown",
      "metadata": {
        "id": "QJExGpVTVvX6"
      },
      "source": [
        "##*Metodo de Seleção*"
      ]
    },
    {
      "cell_type": "code",
      "metadata": {
        "id": "wFpuWBvVV04N"
      },
      "source": [
        "def selecao(individuos):\n",
        "  listaSelecionados = []\n",
        "  individuos = sorted(individuos, key=lambda x: x.fitnessPercent)\n",
        "\n",
        "  for _ in range(populacao):\n",
        "    numeroAleatorio = uniform(0.0, 100.0)\n",
        "    for individuo in individuos:\n",
        "      if numeroAleatorio >= individuo.rangeRoleta[0] and numeroAleatorio < individuo.rangeRoleta[1]:\n",
        "        indivuduoSelecionado = copy.deepcopy(individuo)\n",
        "        listaSelecionados.append(indivuduoSelecionado)\n",
        "        del individuo\n",
        "        break\n",
        "  \n",
        "  for x in listaSelecionados:\n",
        "    print(\"SELECIONADO \", x)\n",
        "  \n",
        "    \n",
        "  individuos = listaSelecionados\n",
        "  return individuos"
      ],
      "execution_count": null,
      "outputs": []
    },
    {
      "cell_type": "markdown",
      "metadata": {
        "id": "BqtigqJ4Xub1"
      },
      "source": [
        "##*Corte de pontos*"
      ]
    },
    {
      "cell_type": "code",
      "metadata": {
        "id": "oKh9S2ijX5xD"
      },
      "source": [
        "def two_point_crossover(pai, mae) -> Tuple[Individuo, Individuo]:\n",
        "    filho1 = pai\n",
        "    filho2 = mae\n",
        "\n",
        "    if len(pai.cromossomoINT) == len(mae.cromossomoINT):\n",
        "\n",
        "        numero_alelos = len(pai.cromossomoINT)\n",
        "        \n",
        "        split1 = randint(1, numero_alelos)\n",
        "        split2 = randint(1, numero_alelos)\n",
        "\n",
        "        sair = True\n",
        "        while sair:\n",
        "            if split1 == split2:\n",
        "                split1 = randint(1, numero_alelos)\n",
        "                split2 = randint(1, numero_alelos)\n",
        "            else:\n",
        "                sair = False\n",
        "\n",
        "        if split1 < split2:\n",
        "            \n",
        "            filho1.cromossomoINT = pai.cromossomoINT[0:split1] + mae.cromossomoINT[split1:split2] + pai.cromossomoINT[split2:numero_alelos]\n",
        "            filho2.cromossomoINT = mae.cromossomoINT[0:split1] + pai.cromossomoINT[split1:split2] + mae.cromossomoINT[split2:numero_alelos]\n",
        "\n",
        "        else:\n",
        "          \n",
        "            filho1.cromossomoINT = pai.cromossomoINT[0:split2] + mae.cromossomoINT[split2:split1] + pai.cromossomoINT[split1:numero_alelos]\n",
        "            filho2.cromossomoINT = mae.cromossomoINT[0:split2] + pai.cromossomoINT[split2:split1] + mae.cromossomoINT[split1:numero_alelos]\n",
        "\n",
        "    return filho1, filho2\n"
      ],
      "execution_count": null,
      "outputs": []
    },
    {
      "cell_type": "code",
      "metadata": {
        "id": "Th0wP3jHrv1X"
      },
      "source": [
        "def single_point_crossover(pai, mae) -> Tuple[Individuo, Individuo]:\n",
        "    filho1 = pai\n",
        "    filho2 = mae\n",
        "\n",
        "    if len(pai.cromossomoINT) != len(mae.cromossomoINT):\n",
        "        raise ValueError(\"Genomes a and b must be of same length\")\n",
        "\n",
        "  \n",
        "    \n",
        "    p = randint(1, len(pai.cromossomoINT) - 1)\n",
        "    filho1.cromossomoINT, filho2.cromossomoINT  = pai.cromossomoINT[0:p] + mae.cromossomoINT[p:], mae.cromossomoINT[0:p] + pai.cromossomoINT[p:]\n",
        "    \n",
        "    return filho1, filho2"
      ],
      "execution_count": null,
      "outputs": []
    },
    {
      "cell_type": "markdown",
      "metadata": {
        "id": "MoWpU3ljWlVf"
      },
      "source": [
        "###*Crossover*"
      ]
    },
    {
      "cell_type": "code",
      "metadata": {
        "id": "UdqyhTV6Wq0P"
      },
      "source": [
        "def crossover(individuos):\n",
        "  list = [*range(populacao)]\n",
        "\n",
        "  TAXACROSS = int(0.8*populacao)\n",
        "  \n",
        "  for _ in range(int(TAXACROSS/2)):\n",
        "    indexPai = choice(list)\n",
        "    pai = individuos[indexPai]\n",
        "    list.remove(indexPai)\n",
        "\n",
        "    indexMae = choice(list)\n",
        "    mae = individuos[indexMae]\n",
        "    list.remove(indexMae)\n",
        "    \n",
        "    filho1, filho2 = two_point_crossover(pai=pai, mae=mae)\n",
        "    # filho1, filho2 = single_point_crossover(pai=pai, mae=mae)\n",
        "   \n",
        "    \n",
        "    individuos.remove(pai)\n",
        "    individuos.remove(mae)\n",
        "\n",
        "    individuos.append(filho1)\n",
        "    individuos.append(filho2)\n",
        "  \n",
        "  return individuos"
      ],
      "execution_count": null,
      "outputs": []
    },
    {
      "cell_type": "markdown",
      "metadata": {
        "id": "-GmXbBNkZ0tw"
      },
      "source": [
        "##*Mutação*"
      ]
    },
    {
      "cell_type": "code",
      "metadata": {
        "id": "qY3rEqC-Z26q"
      },
      "source": [
        "def mutar(individuos):\n",
        "  for individuo in individuos:\n",
        "    bitFlip = randint(0, numeroAlelos-1)\n",
        "    chanceMutacao = random()\n",
        "    if chanceMutacao <= 0.01:\n",
        "      if individuo.cromossomoINT[bitFlip] == 0:\n",
        "        individuo.cromossomoINT[bitFlip] = 1\n",
        "      else:\n",
        "        individuo.cromossomoINT[bitFlip] = 0\n",
        "  \n",
        "  return individuos\n",
        "\n",
        "     \n",
        "\n",
        "\n"
      ],
      "execution_count": null,
      "outputs": []
    },
    {
      "cell_type": "markdown",
      "metadata": {
        "id": "10-Wh8d0nT_U"
      },
      "source": [
        "###*Função de reparação*"
      ]
    },
    {
      "cell_type": "code",
      "metadata": {
        "id": "NW5F-8wVnZH1"
      },
      "source": [
        "def funcao_reparacao(indviduos):\n",
        "  vet_ref = []\n",
        "  peso = 0\n",
        "  valor = 0\n",
        "  for indviduo in indviduos:\n",
        "    for x in range(len(things)):\n",
        "      if indviduo[x] != 0:\n",
        "        \n",
        "\n",
        "\n"
      ],
      "execution_count": null,
      "outputs": []
    },
    {
      "cell_type": "markdown",
      "metadata": {
        "id": "isQt5YyeJcQI"
      },
      "source": [
        "## Classe para o Algoritmo Evolutivo Modelo 02"
      ]
    },
    {
      "cell_type": "markdown",
      "metadata": {
        "id": "h4Mn8aLJaUq5"
      },
      "source": [
        "###*Class Princial Execução do AG*"
      ]
    },
    {
      "cell_type": "markdown",
      "metadata": {
        "id": "ym5RTp4OfKeG"
      },
      "source": [
        "###*KSP Problem == Problema da Mochila*\n",
        "     \"\"\"\n",
        "     obj  --> 1 2 3 4 5 6 7 8\n",
        "     ben  --> 3 3 2 4 2 3 5 2\n",
        "     peso --> 5 4 7 8 4 4 6 8\n",
        "              \n",
        "              1 1 0 0 1 1 1 0\n",
        "              \n",
        "              \n",
        "\n",
        "     valor = 16\n",
        "     peso  = 23km\n",
        "     \"\"\""
      ]
    },
    {
      "cell_type": "markdown",
      "metadata": {
        "id": "mqYta1ynV1AH"
      },
      "source": [
        "# Criando a função principal"
      ]
    },
    {
      "cell_type": "code",
      "metadata": {
        "id": "don5PY28V_9n"
      },
      "source": [
        "def main():\n",
        "  individuos = iniciaPopulacao(populacao)\n",
        "\n",
        "  for i in range(len(individuos)):\n",
        "    print(individuos[i])\n",
        "  # for geracao in range(geracoes):\n",
        "  #   print(\"GERAÇÃO: \", str(geracao))\n",
        "\n",
        "  #   individuos = definirFitness(individuos)\n",
        "  #   individuos = calcularFitnessPercent(individuos)\n",
        "  #   individuos = definirRangeRoleta(individuos)\n",
        "  #   individuos = selecao(individuos)\n",
        "  #   individuos = crossover(individuos)\n",
        "  #   individuos = mutar(individuos)\n",
        "\n",
        "    \n",
        "  #   if any(individuo.fitness >= 16 for individuo in individuos):\n",
        "  #     print(\"Encontrei nossa solução\")\n",
        "  #     exit(0)\n",
        "\n",
        "\n",
        "\n",
        "\n",
        "\n",
        "  "
      ],
      "execution_count": null,
      "outputs": []
    },
    {
      "cell_type": "code",
      "metadata": {
        "id": "lWXnYjocWH_c"
      },
      "source": [
        "if __name__=='__main__':\n",
        "  main()"
      ],
      "execution_count": null,
      "outputs": []
    }
  ]
}