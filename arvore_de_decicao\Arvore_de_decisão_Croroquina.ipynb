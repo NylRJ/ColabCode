{
  "nbformat": 4,
  "nbformat_minor": 0,
  "metadata": {
    "colab": {
      "name": " Arvore_de_decisão_Croroquina.ipynb",
      "provenance": [],
      "authorship_tag": "ABX9TyOfcVzzMUaWN5JcGLqJ8ZRd",
      "include_colab_link": true
    },
    "kernelspec": {
      "name": "python3",
      "display_name": "Python 3"
    },
    "language_info": {
      "name": "python"
    }
  },
  "cells": [
    {
      "cell_type": "markdown",
      "metadata": {
        "id": "view-in-github",
        "colab_type": "text"
      },
      "source": [
        "<a href=\"https://colab.research.google.com/github/NylRJ/ColabCode/blob/main/arvore_de_decicao%5CArvore_de_decis%C3%A3o_Croroquina.ipynb\" target=\"_parent\"><img src=\"https://colab.research.google.com/assets/colab-badge.svg\" alt=\"Open In Colab\"/></a>"
      ]
    },
    {
      "cell_type": "code",
      "metadata": {
        "colab": {
          "base_uri": "https://localhost:8080/"
        },
        "id": "6rPGMv8F8H0y",
        "outputId": "84198c6c-46cc-442b-cc05-cbf504db75f4"
      },
      "source": [
        "!pip install graphviz # visualizador de Grafo"
      ],
      "execution_count": 29,
      "outputs": [
        {
          "output_type": "stream",
          "name": "stdout",
          "text": [
            "Requirement already satisfied: graphviz in /usr/local/lib/python3.7/dist-packages (0.10.1)\n"
          ]
        }
      ]
    },
    {
      "cell_type": "code",
      "metadata": {
        "id": "z0iosNkp8W9a"
      },
      "source": [
        "import pandas as pd\n",
        "from sklearn.tree import DecisionTreeClassifier\n",
        "from sklearn.tree import export_graphviz\n",
        "\n",
        "import pydot\n",
        "import graphviz"
      ],
      "execution_count": 30,
      "outputs": []
    },
    {
      "cell_type": "code",
      "metadata": {
        "id": "jiSm0yiS8xrK"
      },
      "source": [
        "# # criate dataset\n",
        "instacias = [\n",
        "             {'Curado':'Sim', 'Clóroquina': 'sim'},\n",
        "             {'Curado':'Sim', 'Clóroquina': 'nao'},\n",
        "             {'Curado':'Sim', 'Clóroquina': 'nao'},\n",
        "             {'Curado':'Sim', 'Clóroquina': 'nao'},\n",
        "             {'Curado':'Não', 'Clóroquina': 'nao'},\n",
        "             {'Curado':'Sim', 'Clóroquina': 'nao'},\n",
        "             {'Curado':'Sim', 'Clóroquina': 'nao'},\n",
        "             {'Curado':'Não', 'Clóroquina': 'sim'},\n",
        "             {'Curado':'Sim', 'Clóroquina': 'nao'},\n",
        "             {'Curado':'Não', 'Clóroquina': 'sim'},\n",
        "             {'Curado':'Não', 'Clóroquina': 'sim'},\n",
        "             {'Curado':'Não', 'Clóroquina': 'nao'},\n",
        "             {'Curado':'Sim', 'Clóroquina': 'nao'},\n",
        "             {'Curado':'Sim', 'Clóroquina': 'sim'}\n",
        "             \n",
        "             ]\n",
        "\n",
        "\n",
        "# criate dataset\n",
        "instacias1 = [\n",
        "  {\n",
        "    \"DISTANCIA\": \"curta\",\n",
        "    \"TENSAO\": \"baixa\",\n",
        "    \"ELEVACAO\": \"nenhuma\",\n",
        "    \"ACERTOU\": \"sim\"\n",
        "  },\n",
        "  {\n",
        "    \"DISTANCIA\": \"curta\",\n",
        "    \"TENSAO\": \"alta\",\n",
        "    \"ELEVACAO\": \"nenhuma\",\n",
        "    \"ACERTOU\": \"sim\"\n",
        "  },\n",
        "  {\n",
        "    \"DISTANCIA\": \"curta\",\n",
        "    \"TENSAO\": \"alta\",\n",
        "    \"ELEVACAO\": \"media\",\n",
        "    \"ACERTOU\": \"nao\"\n",
        "  },\n",
        "  {\n",
        "    \"DISTANCIA\": \"curta\",\n",
        "    \"TENSAO\": \"media\",\n",
        "    \"ELEVACAO\": \"media\",\n",
        "    \"ACERTOU\": \"nao\"\n",
        "  },\n",
        "  {\n",
        "    \"DISTANCIA\": \"curta\",\n",
        "    \"TENSAO\": \"baixa\",\n",
        "    \"ELEVACAO\": \"media\",\n",
        "    \"ACERTOU\": \"sim\"\n",
        "  },\n",
        "  {\n",
        "    \"DISTANCIA\": \"media\",\n",
        "    \"TENSAO\": \"baixa\",\n",
        "    \"ELEVACAO\": \"nenhuma\",\n",
        "    \"ACERTOU\": \"sim\"\n",
        "  },\n",
        "  {\n",
        "    \"DISTANCIA\": \"media\",\n",
        "    \"TENSAO\": \"alta\",\n",
        "    \"ELEVACAO\": \"nenhuma\",\n",
        "    \"ACERTOU\": \"sim\"\n",
        "  },\n",
        "  {\n",
        "    \"DISTANCIA\": \"media\",\n",
        "    \"TENSAO\": \"alta\",\n",
        "    \"ELEVACAO\": \"media\",\n",
        "    \"ACERTOU\": \"nao\"\n",
        "  },\n",
        "  {\n",
        "    \"DISTANCIA\": \"media\",\n",
        "    \"TENSAO\": \"media\",\n",
        "    \"ELEVACAO\": \"media\",\n",
        "    \"ACERTOU\": \"nao\"\n",
        "  },\n",
        "  {\n",
        "    \"DISTANCIA\": \"media\",\n",
        "    \"TENSAO\": \"baixa\",\n",
        "    \"ELEVACAO\": \"media\",\n",
        "    \"ACERTOU\": \"sim\"\n",
        "  },\n",
        "  {\n",
        "    \"DISTANCIA\": \"media-curta\",\n",
        "    \"TENSAO\": \"baixa\",\n",
        "    \"ELEVACAO\": \"nenhuma\",\n",
        "    \"ACERTOU\": \"sim\"\n",
        "  },\n",
        "  {\n",
        "    \"DISTANCIA\": \"media-curta\",\n",
        "    \"TENSAO\": \"alta\",\n",
        "    \"ELEVACAO\": \"nenhuma\",\n",
        "    \"ACERTOU\": \"sim\"\n",
        "  },\n",
        "  {\n",
        "    \"DISTANCIA\": \"media-curta\",\n",
        "    \"TENSAO\": \"alta\",\n",
        "    \"ELEVACAO\": \"media\",\n",
        "    \"ACERTOU\": \"nao\"\n",
        "  },\n",
        "  {\n",
        "    \"DISTANCIA\": \"media-curta\",\n",
        "    \"TENSAO\": \"media\",\n",
        "    \"ELEVACAO\": \"media\",\n",
        "    \"ACERTOU\": \"nao\"\n",
        "  },\n",
        "  {\n",
        "    \"DISTANCIA\": \"media-curta\",\n",
        "    \"TENSAO\": \"baixa\",\n",
        "    \"ELEVACAO\": \"media\",\n",
        "    \"ACERTOU\": \"sim\"\n",
        "  },\n",
        "  {\n",
        "    \"DISTANCIA\": \"longa\",\n",
        "    \"TENSAO\": \"baixa\",\n",
        "    \"ELEVACAO\": \"nenhuma\",\n",
        "    \"ACERTOU\": \"sim\"\n",
        "  },\n",
        "  {\n",
        "    \"DISTANCIA\": \"longa\",\n",
        "    \"TENSAO\": \"alta\",\n",
        "    \"ELEVACAO\": \"nenhuma\",\n",
        "    \"ACERTOU\": \"sim\"\n",
        "  },\n",
        "  {\n",
        "    \"DISTANCIA\": \"longa\",\n",
        "    \"TENSAO\": \"alta\",\n",
        "    \"ELEVACAO\": \"media\",\n",
        "    \"ACERTOU\": \"nao\"\n",
        "  },\n",
        "  {\n",
        "    \"DISTANCIA\": \"longa\",\n",
        "    \"TENSAO\": \"media\",\n",
        "    \"ELEVACAO\": \"media\",\n",
        "    \"ACERTOU\": \"nao\"\n",
        "  },\n",
        "  {\n",
        "    \"DISTANCIA\": \"longa\",\n",
        "    \"TENSAO\": \"baixa\",\n",
        "    \"ELEVACAO\": \"media\",\n",
        "    \"ACERTOU\": \"sim\"\n",
        "  },\n",
        "  {\n",
        "    \"DISTANCIA\": \"media-longa\",\n",
        "    \"TENSAO\": \"baixa\",\n",
        "    \"ELEVACAO\": \"nenhuma\",\n",
        "    \"ACERTOU\": \"sim\"\n",
        "  },\n",
        "  {\n",
        "    \"DISTANCIA\": \"media-longa\",\n",
        "    \"TENSAO\": \"alta\",\n",
        "    \"ELEVACAO\": \"nenhuma\",\n",
        "    \"ACERTOU\": \"sim\"\n",
        "  },\n",
        "  {\n",
        "    \"DISTANCIA\": \"media-longa\",\n",
        "    \"TENSAO\": \"alta\",\n",
        "    \"ELEVACAO\": \"media\",\n",
        "    \"ACERTOU\": \"nao\"\n",
        "  },\n",
        "  {\n",
        "    \"DISTANCIA\": \"media-longa\",\n",
        "    \"TENSAO\": \"media\",\n",
        "    \"ELEVACAO\": \"media\",\n",
        "    \"ACERTOU\": \"nao\"\n",
        "  },\n",
        "  {\n",
        "    \"DISTANCIA\": \"media-longa\",\n",
        "    \"TENSAO\": \"baixa\",\n",
        "    \"ELEVACAO\": \"media\",\n",
        "    \"ACERTOU\": \"sim\"\n",
        "  }\n",
        "]"
      ],
      "execution_count": 44,
      "outputs": []
    },
    {
      "cell_type": "code",
      "metadata": {
        "id": "BCvF44-K-1gc"
      },
      "source": [
        "df = pd.DataFrame(instacias)"
      ],
      "execution_count": 45,
      "outputs": []
    },
    {
      "cell_type": "code",
      "metadata": {
        "colab": {
          "base_uri": "https://localhost:8080/",
          "height": 488
        },
        "id": "VKV-1dRF_Aof",
        "outputId": "7de01c5c-6b74-446d-a267-de29c2b16278"
      },
      "source": [
        "df"
      ],
      "execution_count": 46,
      "outputs": [
        {
          "output_type": "execute_result",
          "data": {
            "text/html": [
              "<div>\n",
              "<style scoped>\n",
              "    .dataframe tbody tr th:only-of-type {\n",
              "        vertical-align: middle;\n",
              "    }\n",
              "\n",
              "    .dataframe tbody tr th {\n",
              "        vertical-align: top;\n",
              "    }\n",
              "\n",
              "    .dataframe thead th {\n",
              "        text-align: right;\n",
              "    }\n",
              "</style>\n",
              "<table border=\"1\" class=\"dataframe\">\n",
              "  <thead>\n",
              "    <tr style=\"text-align: right;\">\n",
              "      <th></th>\n",
              "      <th>Curado</th>\n",
              "      <th>Clóroquina</th>\n",
              "    </tr>\n",
              "  </thead>\n",
              "  <tbody>\n",
              "    <tr>\n",
              "      <th>0</th>\n",
              "      <td>Sim</td>\n",
              "      <td>sim</td>\n",
              "    </tr>\n",
              "    <tr>\n",
              "      <th>1</th>\n",
              "      <td>Sim</td>\n",
              "      <td>nao</td>\n",
              "    </tr>\n",
              "    <tr>\n",
              "      <th>2</th>\n",
              "      <td>Sim</td>\n",
              "      <td>nao</td>\n",
              "    </tr>\n",
              "    <tr>\n",
              "      <th>3</th>\n",
              "      <td>Sim</td>\n",
              "      <td>nao</td>\n",
              "    </tr>\n",
              "    <tr>\n",
              "      <th>4</th>\n",
              "      <td>Não</td>\n",
              "      <td>nao</td>\n",
              "    </tr>\n",
              "    <tr>\n",
              "      <th>5</th>\n",
              "      <td>Sim</td>\n",
              "      <td>nao</td>\n",
              "    </tr>\n",
              "    <tr>\n",
              "      <th>6</th>\n",
              "      <td>Sim</td>\n",
              "      <td>nao</td>\n",
              "    </tr>\n",
              "    <tr>\n",
              "      <th>7</th>\n",
              "      <td>Não</td>\n",
              "      <td>sim</td>\n",
              "    </tr>\n",
              "    <tr>\n",
              "      <th>8</th>\n",
              "      <td>Sim</td>\n",
              "      <td>nao</td>\n",
              "    </tr>\n",
              "    <tr>\n",
              "      <th>9</th>\n",
              "      <td>Não</td>\n",
              "      <td>sim</td>\n",
              "    </tr>\n",
              "    <tr>\n",
              "      <th>10</th>\n",
              "      <td>Não</td>\n",
              "      <td>sim</td>\n",
              "    </tr>\n",
              "    <tr>\n",
              "      <th>11</th>\n",
              "      <td>Não</td>\n",
              "      <td>nao</td>\n",
              "    </tr>\n",
              "    <tr>\n",
              "      <th>12</th>\n",
              "      <td>Sim</td>\n",
              "      <td>nao</td>\n",
              "    </tr>\n",
              "    <tr>\n",
              "      <th>13</th>\n",
              "      <td>Sim</td>\n",
              "      <td>sim</td>\n",
              "    </tr>\n",
              "  </tbody>\n",
              "</table>\n",
              "</div>"
            ],
            "text/plain": [
              "   Curado Clóroquina\n",
              "0     Sim        sim\n",
              "1     Sim        nao\n",
              "2     Sim        nao\n",
              "3     Sim        nao\n",
              "4     Não        nao\n",
              "5     Sim        nao\n",
              "6     Sim        nao\n",
              "7     Não        sim\n",
              "8     Sim        nao\n",
              "9     Não        sim\n",
              "10    Não        sim\n",
              "11    Não        nao\n",
              "12    Sim        nao\n",
              "13    Sim        sim"
            ]
          },
          "metadata": {},
          "execution_count": 46
        }
      ]
    },
    {
      "cell_type": "code",
      "metadata": {
        "id": "NBcVhfkt_WgJ"
      },
      "source": [
        "# treinamento\n",
        "X_train = [[1] if a else [0] for a in df['Curado']]\n",
        "Y_train = [1 if d == 'sim' else 0 for d in df['Clóroquina']]\n",
        "labels = ['Clóroquina']"
      ],
      "execution_count": 47,
      "outputs": []
    },
    {
      "cell_type": "code",
      "source": [
        "# # treinamento\n",
        "# X_train = [[1] if a else [0] for a in df['ACERTOU']]\n",
        "# Y_train = [1 if d == 'sim' else 0 for d in df['Clóroquina']]\n",
        "# labels = ['Clóroquina']"
      ],
      "metadata": {
        "id": "2Bo6cDOGlYOp"
      },
      "execution_count": null,
      "outputs": []
    },
    {
      "cell_type": "code",
      "metadata": {
        "colab": {
          "base_uri": "https://localhost:8080/"
        },
        "id": "WW1Xq_3d_63o",
        "outputId": "185b6d06-37ef-410d-99bb-93b2e2f18341"
      },
      "source": [
        "# print(df[\"DISTANCIA\"][0] == \"curta\")"
      ],
      "execution_count": 42,
      "outputs": [
        {
          "output_type": "stream",
          "name": "stdout",
          "text": [
            "False\n"
          ]
        }
      ]
    },
    {
      "cell_type": "code",
      "source": [
        "print(X_train)"
      ],
      "metadata": {
        "colab": {
          "base_uri": "https://localhost:8080/"
        },
        "id": "wLld7NuBp-tn",
        "outputId": "1eab00dd-c572-4957-9af9-f8f78d279c4e"
      },
      "execution_count": 59,
      "outputs": [
        {
          "output_type": "stream",
          "name": "stdout",
          "text": [
            "[[1], [1], [1], [1], [1], [1], [1], [1], [1], [1], [1], [1], [1], [1]]\n"
          ]
        }
      ]
    },
    {
      "cell_type": "code",
      "metadata": {
        "colab": {
          "base_uri": "https://localhost:8080/"
        },
        "id": "hpcR2J6DAWZy",
        "outputId": "72cca889-3e06-4f05-c7ae-11d04f32b8e4"
      },
      "source": [
        "print(Y_train)"
      ],
      "execution_count": 60,
      "outputs": [
        {
          "output_type": "stream",
          "name": "stdout",
          "text": [
            "[1, 0, 0, 0, 0, 0, 0, 1, 0, 1, 1, 0, 0, 1]\n"
          ]
        }
      ]
    },
    {
      "cell_type": "code",
      "metadata": {
        "id": "33jToPmHAdwU"
      },
      "source": [
        "modelo_v1 = DecisionTreeClassifier(max_depth=None,\n",
        "                                   max_features=None,\n",
        "                                   criterion = 'entropy',\n",
        "                                   min_samples_leaf = 1,\n",
        "                                   min_samples_split = 2)"
      ],
      "execution_count": 61,
      "outputs": []
    },
    {
      "cell_type": "code",
      "metadata": {
        "colab": {
          "base_uri": "https://localhost:8080/"
        },
        "id": "yziC0GiyCCKH",
        "outputId": "3f485c1c-3589-462e-8239-8551c6153a38"
      },
      "source": [
        "# Modelo Classificador\n",
        "modelo_v1.fit(X_train, Y_train)"
      ],
      "execution_count": 62,
      "outputs": [
        {
          "output_type": "execute_result",
          "data": {
            "text/plain": [
              "DecisionTreeClassifier(criterion='entropy')"
            ]
          },
          "metadata": {},
          "execution_count": 62
        }
      ]
    },
    {
      "cell_type": "code",
      "metadata": {
        "id": "cN-WeWTqDI3P"
      },
      "source": [
        "# Nome do arquivo da árvore de decição\n",
        "arquivo = '/content/sample_data/tree_modelo_v1.dot'"
      ],
      "execution_count": 63,
      "outputs": []
    },
    {
      "cell_type": "code",
      "metadata": {
        "colab": {
          "base_uri": "https://localhost:8080/",
          "height": 102
        },
        "id": "vuw8zOQYDUzA",
        "outputId": "4fd58ccc-d7f8-4d3f-a322-b6bcc8732992"
      },
      "source": [
        "# Gerando Grafico da árvore de decição\n",
        "export_graphviz(modelo_v1, out_file=arquivo, feature_names=labels)\n",
        "with open(arquivo) as f:\n",
        "  dot_graph = f.read()\n",
        "graphviz.Source(dot_graph)\n"
      ],
      "execution_count": 64,
      "outputs": [
        {
          "output_type": "execute_result",
          "data": {
            "text/plain": [
              "<graphviz.files.Source at 0x7f8f62b76650>"
            ],
            "image/svg+xml": "<?xml version=\"1.0\" encoding=\"UTF-8\" standalone=\"no\"?>\n<!DOCTYPE svg PUBLIC \"-//W3C//DTD SVG 1.1//EN\"\n \"http://www.w3.org/Graphics/SVG/1.1/DTD/svg11.dtd\">\n<!-- Generated by graphviz version 2.40.1 (20161225.0304)\n -->\n<!-- Title: Tree Pages: 1 -->\n<svg width=\"118pt\" height=\"61pt\"\n viewBox=\"0.00 0.00 118.00 61.00\" xmlns=\"http://www.w3.org/2000/svg\" xmlns:xlink=\"http://www.w3.org/1999/xlink\">\n<g id=\"graph0\" class=\"graph\" transform=\"scale(1 1) rotate(0) translate(4 57)\">\n<title>Tree</title>\n<polygon fill=\"#ffffff\" stroke=\"transparent\" points=\"-4,4 -4,-57 114,-57 114,4 -4,4\"/>\n<!-- 0 -->\n<g id=\"node1\" class=\"node\">\n<title>0</title>\n<polygon fill=\"none\" stroke=\"#000000\" points=\"110,-53 0,-53 0,0 110,0 110,-53\"/>\n<text text-anchor=\"middle\" x=\"55\" y=\"-37.8\" font-family=\"Helvetica,sans-Serif\" font-size=\"14.00\" fill=\"#000000\">entropy = 0.94</text>\n<text text-anchor=\"middle\" x=\"55\" y=\"-22.8\" font-family=\"Helvetica,sans-Serif\" font-size=\"14.00\" fill=\"#000000\">samples = 14</text>\n<text text-anchor=\"middle\" x=\"55\" y=\"-7.8\" font-family=\"Helvetica,sans-Serif\" font-size=\"14.00\" fill=\"#000000\">value = [9, 5]</text>\n</g>\n</g>\n</svg>\n"
          },
          "metadata": {},
          "execution_count": 64
        }
      ]
    },
    {
      "cell_type": "code",
      "metadata": {
        "id": "do363BcHGf8j"
      },
      "source": [
        "# Criando Classificador baseado no índice Gin\n",
        "\n",
        "modelo_v2 = DecisionTreeClassifier(max_depth=None,\n",
        "                                   max_features=None,\n",
        "                                   min_samples_leaf = 1,\n",
        "                                   min_samples_split = 2)"
      ],
      "execution_count": 53,
      "outputs": []
    },
    {
      "cell_type": "code",
      "metadata": {
        "colab": {
          "base_uri": "https://localhost:8080/"
        },
        "id": "UGlzK1ZaHGr3",
        "outputId": "73923b56-72f6-4a0c-f07d-fa567351e5da"
      },
      "source": [
        "# Modelo Classificador\n",
        "modelo_v2.fit(X_train, Y_train)"
      ],
      "execution_count": 54,
      "outputs": [
        {
          "output_type": "execute_result",
          "data": {
            "text/plain": [
              "DecisionTreeClassifier()"
            ]
          },
          "metadata": {},
          "execution_count": 54
        }
      ]
    },
    {
      "cell_type": "code",
      "metadata": {
        "id": "KAyevIo-HTT8"
      },
      "source": [
        "# Nome do arquivo da árvore de decição\n",
        "arquivo = '/content/sample_data/tree_modelo_v2.dot'"
      ],
      "execution_count": 55,
      "outputs": []
    },
    {
      "cell_type": "code",
      "metadata": {
        "colab": {
          "base_uri": "https://localhost:8080/",
          "height": 102
        },
        "id": "9giSbIRWHbF2",
        "outputId": "476db05e-c434-4423-9819-6dd069a30651"
      },
      "source": [
        "# Gerando Grafico da árvore de decição\n",
        "export_graphviz(modelo_v2, out_file=arquivo, feature_names=labels)\n",
        "with open(arquivo) as f:\n",
        "  dot_graph = f.read()\n",
        "graphviz.Source(dot_graph)"
      ],
      "execution_count": 56,
      "outputs": [
        {
          "output_type": "execute_result",
          "data": {
            "text/plain": [
              "<graphviz.files.Source at 0x7f8f62ad34d0>"
            ],
            "image/svg+xml": "<?xml version=\"1.0\" encoding=\"UTF-8\" standalone=\"no\"?>\n<!DOCTYPE svg PUBLIC \"-//W3C//DTD SVG 1.1//EN\"\n \"http://www.w3.org/Graphics/SVG/1.1/DTD/svg11.dtd\">\n<!-- Generated by graphviz version 2.40.1 (20161225.0304)\n -->\n<!-- Title: Tree Pages: 1 -->\n<svg width=\"112pt\" height=\"61pt\"\n viewBox=\"0.00 0.00 112.00 61.00\" xmlns=\"http://www.w3.org/2000/svg\" xmlns:xlink=\"http://www.w3.org/1999/xlink\">\n<g id=\"graph0\" class=\"graph\" transform=\"scale(1 1) rotate(0) translate(4 57)\">\n<title>Tree</title>\n<polygon fill=\"#ffffff\" stroke=\"transparent\" points=\"-4,4 -4,-57 108,-57 108,4 -4,4\"/>\n<!-- 0 -->\n<g id=\"node1\" class=\"node\">\n<title>0</title>\n<polygon fill=\"none\" stroke=\"#000000\" points=\"104,-53 0,-53 0,0 104,0 104,-53\"/>\n<text text-anchor=\"middle\" x=\"52\" y=\"-37.8\" font-family=\"Helvetica,sans-Serif\" font-size=\"14.00\" fill=\"#000000\">gini = 0.459</text>\n<text text-anchor=\"middle\" x=\"52\" y=\"-22.8\" font-family=\"Helvetica,sans-Serif\" font-size=\"14.00\" fill=\"#000000\">samples = 14</text>\n<text text-anchor=\"middle\" x=\"52\" y=\"-7.8\" font-family=\"Helvetica,sans-Serif\" font-size=\"14.00\" fill=\"#000000\">value = [9, 5]</text>\n</g>\n</g>\n</svg>\n"
          },
          "metadata": {},
          "execution_count": 56
        }
      ]
    }
  ]
}